{
 "cells": [
  {
   "cell_type": "markdown",
   "metadata": {},
   "source": [
    "### **1. Indicizzazione booleana**\n",
    "\n",
    "1. Creare un nuovo vettore con tutti i numeri primi tra 0 e 20. I numeri primi compresi tra 0 e 20 sono: **2, 3, 5, 7, 11, 13, 17, 19**.\n",
    "\n",
    "2. Utilizza un test logico (ad esempio `>`, `<`, `==`, `!=`) per **selezionare tutte le voci del vettore maggiori di 10**.\n",
    "\n",
    "3. Utilizza un test logico per selezionare **tutti i numeri primi pari** dalla lista.  \n"
   ]
  },
  {
   "cell_type": "code",
   "execution_count": 7,
   "metadata": {},
   "outputs": [
    {
     "name": "stdout",
     "output_type": "stream",
     "text": [
      "[11 13 17 19]\n",
      "[2]\n"
     ]
    }
   ],
   "source": [
    "import numpy as np\n",
    "\n",
    "#Passo 1 - Creazione del vettore di numeri primi compresi tra 0 e 20\n",
    "a = np.array([2,3,5,7,11,13,17,19])\n",
    "\n",
    "#Passo 2 - Selezionare le voci del vettore che sono maggiori di 10\n",
    "print(a[a>10])\n",
    "\n",
    "#Passo 3 - Selezionare i numeri primi pari dell'array indicato sopra\n",
    "print(a[a%2==0])\n",
    "\n"
   ]
  },
  {
   "cell_type": "markdown",
   "metadata": {},
   "source": [
    "### **2.  Operazioni su array**\n",
    "Crea un array **a**, 2D (senza digitarlo esplicitamente), e genera due nuovi array **b**, contenente la sua 2ª e 4ª riga, e **c** contenente solo la 3ª.  Dividi ogni colonna dell'array a, elemento per elemento, con l'array c."
   ]
  },
  {
   "cell_type": "code",
   "execution_count": 48,
   "metadata": {},
   "outputs": [
    {
     "name": "stdout",
     "output_type": "stream",
     "text": [
      "Matrice A:\n",
      "[[ 0  1  2]\n",
      " [ 3  4  5]\n",
      " [ 6  7  8]\n",
      " [ 9 10 11]]\n",
      "Matrice B:\n",
      "[[ 3  4  5]\n",
      " [ 9 10 11]]\n",
      "Matrice C:\n",
      "[6 7 8]\n"
     ]
    }
   ],
   "source": [
    "#Passo 1 - Creao un array di due dimenioni 3x3 con valori compresi da un vettore di partenza di n elementi\n",
    "#Passo 2 - Creo la matrice mediante la funzione reshape\n",
    "a = np.arange(12).reshape(4,3)\n",
    "print(\"Matrice A:\")# Stampo a video la matrice creata\n",
    "print(a)\n",
    "\n",
    "#Passo 2 - Creare un array  b contenente i valori della seconda e 4 riga della matrice\n",
    "#Il vettore c deve contenere solo i valori della terza riga\n",
    "b = a[1:4:2] #Seleziono la seconda e la quarta riga - Da riga 1 a riga 4 saltando di 2 - slicing visto anche per le liste\n",
    "c = a[2] #Seleziono la terza riga - partendo a contare da 0\n",
    "print(\"Matrice B:\") #Stampo array b\n",
    "print(b)\n",
    "print(\"Matrice C:\") #Stampo array c\n",
    "print(c)"
   ]
  },
  {
   "cell_type": "markdown",
   "metadata": {},
   "source": [
    "### **3. Seleziona il numero più vicino a 0.5 in un array casuale**\n",
    "Genera un array 10 x 3 con numeri casuali nell'intervallo [0,1].\n",
    "Per ogni riga, seleziona il numero più vicino a 0.5. Per farlo usa il fancy indexing."
   ]
  },
  {
   "cell_type": "code",
   "execution_count": null,
   "metadata": {},
   "outputs": [
    {
     "name": "stdout",
     "output_type": "stream",
     "text": [
      "Array casuale:\n",
      " [[0.37454012 0.95071431 0.73199394]\n",
      " [0.59865848 0.15601864 0.15599452]\n",
      " [0.05808361 0.86617615 0.60111501]\n",
      " [0.70807258 0.02058449 0.96990985]\n",
      " [0.83244264 0.21233911 0.18182497]\n",
      " [0.18340451 0.30424224 0.52475643]\n",
      " [0.43194502 0.29122914 0.61185289]\n",
      " [0.13949386 0.29214465 0.36636184]\n",
      " [0.45606998 0.78517596 0.19967378]\n",
      " [0.51423444 0.59241457 0.04645041]]\n",
      "\n",
      "Valori più vicini a 0.5 per riga:\n",
      " [0.37454012 0.59865848 0.60111501 0.70807258 0.21233911 0.52475643\n",
      " 0.43194502 0.36636184 0.45606998 0.51423444]\n"
     ]
    }
   ],
   "source": [
    "# 1. Generazione dell'array casuale (10x3) con numeri tra 0 e 1\n",
    "np.random.seed(42) \n",
    "dati = np.random.rand(10, 3)\n",
    "\n",
    "# 2. Calcolo della distanza da 0.5\n",
    "distanze = np.abs(dati - 0.5)\n",
    "\n",
    "# 3. Identificazione dell'indice del numero più vicino a 0.5 per riga\n",
    "indici_minimi = np.argmin(distanze, axis=1)\n",
    "\n",
    "# 4. Utilizzo del fancy indexing per selezionare quegli elementi\n",
    "valori_più_vicini = dati[np.arange(10), indici_minimi]\n",
    "\n",
    "print(\"Array casuale:\\n\", dati)\n",
    "print(\"\\nValori più vicini a 0.5 per riga:\\n\", valori_più_vicini)"
   ]
  },
  {
   "cell_type": "markdown",
   "metadata": {},
   "source": [
    "### **4. Analisi della Frequenza Cardiaca con NumPy**\n",
    "\n",
    "1. **Supponiamo che i seguenti valori rappresentino la tua frequenza cardiaca** registrata dal tuo Fitbit durante la giornata:  \n",
    "   `68, 65, 77, 110, 160, 161, 162, 161, 160, 161, 162, 163, 164, 163, 162, 100, 90, 97, 72, 60, 70`  \n",
    "   Inserisci questi valori in un array NumPy.\n",
    "\n",
    "2. **Trova la frequenza cardiaca minima** registrata durante la giornata.  \n",
    "   _(Questo valore rappresenta approssimativamente la tua frequenza cardiaca a riposo, un comune indicatore di salute.)_\n",
    "\n",
    "3. **Trova la frequenza cardiaca massima** registrata durante la giornata.  \n",
    "   _(Questo valore è un'indicazione dell'intensità dell'esercizio fisico.)_\n",
    "\n",
    "4. **Calcoliamo la percentuale di letture effettuate mentre stavi facendo esercizio fisico (frequenza cardiaca sopra a 120)**:  \n",
    "   - Crea un nuovo array che contiene `True` quando la frequenza cardiaca è **superiore a 120**, e `False` quando è **inferiore o uguale a 120**.\n",
    "   - Utilizza una funzione di sintesi per calcolare la percentuale di osservazioni in cui la tua frequenza cardiaca era sopra 120.\n"
   ]
  },
  {
   "cell_type": "code",
   "execution_count": 54,
   "metadata": {},
   "outputs": [
    {
     "name": "stdout",
     "output_type": "stream",
     "text": [
      "Frequenza minima: 60\n",
      "Frequenza massima: 164\n",
      "Percentuale frequenza sopra i 120 battiti/minuto: 52.38095238095239\n",
      "Percentuale osservazioni sopra i 120 battiti:  52.38095238095239\n"
     ]
    }
   ],
   "source": [
    "#1 - Popolo l'array a con valori forniti dal contesto dell'esercizio\n",
    "a = np.array([68, 65, 77, 110, 160, 161, 162, 161, 160, 161, 162, 163, 164, 163, 162, 100, 90, 97, 72, 60, 70])\n",
    "\n",
    "#2 - Trovo la frequenza minima presente nei valori dati\n",
    "frequenza_minima = np.min(a)\n",
    "print(\"Frequenza minima:\", frequenza_minima)\n",
    "\n",
    "#3 - Trovo la freauenza cardiaca massima\n",
    "frequenza_massima = np.max(a)\n",
    "print(\"Frequenza massima:\", frequenza_massima)\n",
    "\n",
    "#4 - Calcolo la frequenza cardiaca massima sopra i 120 battiti al minuto espressa in percentuale\n",
    "# -> Metodo 1\n",
    "cardio_freq = a[a>120]\n",
    "percentuale = (len(cardio_freq)/len(a))*100 #Calcolo la percentuale\n",
    "print(\"Percentuale frequenza sopra i 120 battiti/minuto:\", percentuale)\n",
    "\n",
    "#Creo un array di logici che mi indichi se la frequenza cardiaca è sopra i 120 battiti/minuto\n",
    "# -> Metodo 2\n",
    "percentuale_cardio = (a>120).mean() * 100\n",
    "print(\"Percentuale osservazioni sopra i 120 battiti: \", percentuale_cardio)"
   ]
  },
  {
   "cell_type": "markdown",
   "metadata": {},
   "source": [
    "### **5. Manipolazione di vettori**\n",
    "\n",
    "1. Creare un vettore contenente i seguenti stipendi: **50.000, 105.250, 55.000, 89.000**.  \n",
    "Qual è il costo totale del personale (somma di tutti gli stipendi dell'azienda)?\n",
    "\n",
    "2. Supponiamo che il nostro malvagio CEO abbia deciso di darsi un aumento.  \n",
    "Modifica il vettore degli stipendi in modo che il CEO, la persona che guadagna **105.250 dollari**, riceva un aumento del **15%**.\n",
    "\n",
    "3. Il **115%** di **105.250 dollari** è **121.037,50 dollari**.  \n",
    "Questo valore è presente nel tuo array? Se no, riesci a capire il motivo?\n",
    "\n",
    "4. Ricrea il vettore e utilizza l'argomento **`dtype`** in modo che, quando il CEO riceve un aumento del **15%**, il suo stipendio finale sia esattamente **121.037,50 dollari**.\n",
    "\n",
    "5. Questo aumento ha infastidito l'impiegata con lo stipendio più basso (**50.000 dollari**), che ora pretende un aumento del **20%**.  \n",
    "Modifica il vettore per riflettere questo cambiamento.\n",
    "\n",
    "6. L'aumento dato al CEO e all'impiegata ha irritato gli altri due dipendenti, quindi ora devono ricevere un aumento del **10%**.  \n",
    "Modifica il vettore di conseguenza.\n",
    "\n",
    "7. Calcola il **costo totale del personale** dopo tutti gli aumenti.  \n",
    "Alla fine, quanto è costato all'azienda l'aumento di circa **16.000 dollari** del CEO?\n"
   ]
  },
  {
   "cell_type": "code",
   "execution_count": 93,
   "metadata": {},
   "outputs": [
    {
     "name": "stdout",
     "output_type": "stream",
     "text": [
      "Costo totale del personale: 299250\n",
      "Salario CEO dopo aumento: 121037\n",
      "Salario CEO dopo aumento: 121037.5\n",
      "Salario impiegata dopo aumento: 60000.0\n",
      "Salari dopo aumento: [ 60000.  121037.5  60500.   97900. ]\n",
      "Costo totale del personale dopo gli aumenti: 339437.5\n"
     ]
    }
   ],
   "source": [
    "#1 - Creo un con gli stipendi dati\n",
    "salary = np.array([50000, 105250, 55000, 89000])\n",
    "\n",
    "#Costo totale del personale\n",
    "costo_totale = np.sum(salary)\n",
    "print(\"Costo totale del personale:\", costo_totale)\n",
    "\n",
    "#Calcolare aumento per CEO\n",
    "index_max = np.argmax(salary)\n",
    "salary[index_max] = salary[index_max]* 1.15\n",
    "print(\"Salario CEO dopo aumento:\", salary[index_max])\n",
    "\n",
    "#3 Giustifico risultato e riconsidero l'incremento del 15% con valori in virgola mobile\n",
    "#L'array creato non può avere elementi di altro tipo, diversi da interi\n",
    "#Per ottenere un risultato in virgola mobile, è necessario creare un array di tipo float\n",
    "salary = np.array([50000, 105250, 55000, 89000], dtype=float)\n",
    "index_max = np.argmax(salary)\n",
    "salary[index_max] = np.around(salary[index_max]*1.15, 2)\n",
    "print(\"Salario CEO dopo aumento:\", salary[index_max])\n",
    "\n",
    "#5 - Aumento della impiegata con stipendio più basso\n",
    "index_min = np.argmin(salary)\n",
    "salary[index_min] = np.around(salary[index_min]*1.20, 2)\n",
    "print(\"Salario impiegata dopo aumento:\", salary[index_min])\n",
    "\n",
    "#6 - Calcolo dell'aumento del 10% per tutti gli operai\n",
    "#Seleziono gli operai\n",
    "operai = salary[-2:]\n",
    "#Calcolo l'aumento del 10%\n",
    "operai = operai*1.10\n",
    "salary[-2:] = np.around(operai, 2) #Arrotondo i valori a due decimali\n",
    "print(\"Salari dopo aumento:\", salary)\n",
    "\n",
    "#7 - Calcolo del costo totale del personale dopo gli aumenti\n",
    "costo_totale = np.sum(salary)\n",
    "print(\"Costo totale del personale dopo gli aumenti:\", costo_totale)\n"
   ]
  },
  {
   "cell_type": "markdown",
   "metadata": {},
   "source": [
    "### **6. Valori di Co2**\n",
    "\n",
    "1. Carica tramite numpy il file generato e salvato a lezione sulle emissioni di CO2\n",
    "\n",
    "2. Calcola quanti valori ci CO2 sono sopra la soglia di 18  tonnellate per anno ed il loro valore medio\n",
    "\n",
    "3. Calcola la frazione totale di emissione sopra la soglia (somma totale sopra la soglia/somma totale)"
   ]
  },
  {
   "cell_type": "code",
   "execution_count": 114,
   "metadata": {},
   "outputs": [
    {
     "name": "stdout",
     "output_type": "stream",
     "text": [
      "File salvato.\n",
      "Valori di CO2 maggiori di 18 tonnellate: 19\n",
      "Media delle emissioni di CO2: 11.89\n",
      "Frazione delle emissioni sopra le 18 tonnellate: 0.15327628855570702\n"
     ]
    }
   ],
   "source": [
    "#1 - Creazione di un file per i dati delle emisisoni di CO2\n",
    "#Ad ogni esecuzione del codice, i valori cambiano\n",
    "co2 = np.round(np.random.uniform(4,20,200), 2) \n",
    "try: \n",
    "    np.savetxt(\"co2_emissioni.txt\", co2, delimiter=\",\", fmt=\"%.2f\")\n",
    "except:\n",
    "    raise Exception(\"Errore durante il salvataggio del file.\")\n",
    "else:\n",
    "    print(\"File salvato.\")\n",
    "\n",
    "#2 - Carico il file e calcolo quanti valori di CO2 sono maggiori di 18 tonnellate \n",
    "try:\n",
    "    co2 = np.loadtxt(\"co2_emissioni.txt\", delimiter=\",\")\n",
    "except:\n",
    "    raise Exception(\"Errore durante il caricamento del file.\")\n",
    "else:\n",
    "    #Controllo i valori di CO2 maggiori di 18 tonnellate\n",
    "    co2_maggiori_18 = co2[co2>18]\n",
    "    #Stampo a video il numeri di valori maggiori di 18 tonnellate\n",
    "    print(\"Valori di CO2 maggiori di 18 tonnellate:\", len(co2_maggiori_18))\n",
    "    \n",
    "    #Calcolo la media dei valori di CO2\n",
    "    media_co2 = np.around(np.mean(co2),2)\n",
    "    #Stampo a video la media delle emissioni di CO2\n",
    "    print(\"Media delle emissioni di CO2:\", media_co2)\n",
    "\n",
    "    #Calcolo la frazione totale sopra la soglia di 18 tonnellate\n",
    "    frazione = np.sum(co2_maggiori_18)/np.sum(co2)\n",
    "    #Stampo il valore della frazione totale sopra la soglia di 18 tonnellate\n",
    "    print(\"Frazione delle emissioni sopra le 18 tonnellate:\", frazione) "
   ]
  },
  {
   "cell_type": "markdown",
   "metadata": {},
   "source": [
    "### **7. Analisi di una matrice**\n",
    "Data la matrice survey con età, reddito e anni di istruzione\n",
    "\n",
    "survey_matrix = np.array([\n",
    "    [25, 40000, 10],\n",
    "    [32, 52000, 12],\n",
    "    [40, 63000, 14],\n",
    "    [29, 47000, 11],\n",
    "    [35, 58000, 13]\n",
    "])\n",
    "\n",
    "\n",
    "1. Seleziona dalla matrice solo gli intervistati con **almeno 12 anni di istruzione** utilizzando un test logico.\n",
    "\n",
    "2. In un'unica riga di codice, seleziona i **redditi** degli intervistati con **almeno 12 anni di istruzione**.\n",
    "\n",
    "3. In un'unica riga di codice, calcola il **reddito medio** degli intervistati con **almeno 12 anni di istruzione**.\n"
   ]
  },
  {
   "cell_type": "code",
   "execution_count": 129,
   "metadata": {},
   "outputs": [
    {
     "name": "stdout",
     "output_type": "stream",
     "text": [
      "Intervistati con almeno 12 anni di istruzione: [[   32 52000    12]\n",
      " [   40 63000    14]\n",
      " [   35 58000    13]]\n",
      "Stipendi degli intervistati con almeno 12 anni di istruzione: [52000 63000 58000]\n",
      "Reddito medio degli intervistati con almeno 12 anni di istruzione: 57666.67\n"
     ]
    }
   ],
   "source": [
    "#Popolo la matrice a con valori forniti dal contesto dell'esercizio\n",
    "#Matrice 5x3 con età, stipendio e anni di esperienza --> [[age, salry, yearEducation],...[age, salary, yearEducation]]\n",
    "survey_matrix = np.array([[25, 40000, 10], [32, 52000, 12], [40, 63000, 14], [29, 47000, 11], [35, 58000, 13]])\n",
    "\n",
    "#1 - Seleziono dalla mtrice solo gli intervistati con alemeno 12 anni di istruzione (Terza colonna della matrice)\n",
    "#Seleziono le righe con almeno 12 anni di istruzione usando lo slicing\n",
    "intervistati = survey_matrix[survey_matrix[:,2]>=12]\n",
    "print(\"Intervistati con almeno 12 anni di istruzione:\", intervistati)\n",
    "\n",
    "#2 - Devo manipolare la matrice degli intervistati selezionati per estrarre i loro stipendi \n",
    "#Seleziono solo la seconda colonna della matrice degli intervistati\n",
    "stipendi = intervistati[:,1]\n",
    "print(\"Stipendi degli intervistati con almeno 12 anni di istruzione:\", stipendi)\n",
    "\n",
    "#3 - Calcolo il reddito medio degli intervistati con almeno 12 anni di istruzione\n",
    "reddito_medio = np.around(np.mean(stipendi), 2)\n",
    "print(\"Reddito medio degli intervistati con almeno 12 anni di istruzione:\", reddito_medio)"
   ]
  },
  {
   "cell_type": "markdown",
   "metadata": {},
   "source": []
  },
  {
   "cell_type": "markdown",
   "metadata": {},
   "source": [
    "### **8. Rimpiazzare gli outliers**\n",
    "\n",
    "Vediamo se possiamo ripulire alcuni dati mancanti. Immagina di essere il responsabile dei registri di un comune locale con **500 cittadini** di **55 anni e oltre**.  \n",
    "\n",
    "La città è famosa per la sua longevità e un team di ricercatori ti ha chiesto di identificare **il cittadino più anziano**.  \n",
    "\n",
    "Il problema è che, occasionalmente, nei registri si verificano errori e in quei casi viene inserita l'età **999** invece dell'età corretta.  \n",
    "\n",
    "Rimuovi i dati errati dall'array e determina l'età del cittadino più anziano.\n"
   ]
  },
  {
   "cell_type": "code",
   "execution_count": null,
   "metadata": {},
   "outputs": [
    {
     "name": "stdout",
     "output_type": "stream",
     "text": [
      "Lunghezza vettore ages - con NaN: 500\n",
      "Età massima - con NaN: nan\n"
     ]
    }
   ],
   "source": [
    "ages = np.array([92, 108, 75, 63, 62, 66, 90, 98, 97, 92, 60, 107, 90, 71, 97, 86, 55, 55,\n",
    "                 98, 57, 96, 104, 96, 94, 72, 98, 111, 98, 89, 69, 77, 92, 85, 101, 93, 100,\n",
    "                 90, 101, 96, 98, 999, 87, 106, 86, 108, 55, 67, 65, 68, 59, 67, 72, 57, 79,\n",
    "                 95, 67, 86, 70, 91, 111, 67, 75, 59, 88, 90, 99, 94, 65, 111, 103, 100, 70,\n",
    "                 63, 65, 100, 110, 999, 70, 57, 75, 56, 104, 111, 90, 74, 100, 90, 86, 88, 99,\n",
    "                 58, 103, 88, 103, 64, 96, 105, 89, 83, 65, 100, 62, 73, 105, 83, 105, 58, 96,\n",
    "                 77, 74, 95, 109, 91, 101, 91, 999, 63, 111, 97, 108, 75, 77, 73, 58, 94, 83,\n",
    "                 90, 61, 110, 107, 105, 85, 64, 66, 71, 107, 105, 72, 78, 66, 100, 102, 72, 999,\n",
    "                 74, 68, 73, 72, 90, 93, 99, 55, 92, 83, 58, 71, 89, 75, 98, 87, 999, 78,\n",
    "                 97, 71, 106, 83, 58, 81, 100, 72, 93, 70, 65, 60, 95, 107, 94, 77, 87, 90,\n",
    "                 82, 56, 99, 107, 86, 56, 73, 96, 64, 69, 64, 92, 57, 104, 110, 69, 66, 68,\n",
    "                 84, 89, 72, 80, 55, 75, 87, 57, 106, 69, 66, 62, 102, 76, 111, 999, 96, 83,\n",
    "                 84, 61, 102, 63, 107, 63, 76, 58, 83, 58, 61, 71, 77, 90, 74, 100, 103, 74,\n",
    "                 92, 102, 63, 87, 93, 61, 63, 86, 74, 98, 64, 999, 78, 95, 84, 81, 107, 85,\n",
    "                 79, 82, 89, 65, 107, 57, 74, 77, 97, 92, 58, 96, 105, 60, 55, 74, 57, 80,\n",
    "                 62, 85, 87, 62, 999, 71, 74, 70, 97, 59, 82, 96, 105, 70, 89, 105, 60, 70,\n",
    "                 87, 999, 64, 108, 107, 104, 85, 95, 108, 74, 64, 97, 89, 88, 79, 67, 81, 92,\n",
    "                 63, 80, 76, 94, 104, 67, 73, 61, 99, 96, 68, 90, 86, 79, 85, 111, 75, 98,\n",
    "                 81, 111, 108, 103, 85, 72, 108, 102, 999, 64, 107, 112, 66, 93, 89, 78, 66, 92,\n",
    "                 63, 101, 92, 64, 72, 56, 71, 64, 87, 78, 107, 85, 109, 95, 69, 111, 64, 72,\n",
    "                 55, 66, 99, 57, 78, 55, 58, 90, 88, 71, 90, 103, 92, 98, 67, 97, 77, 68,\n",
    "                 77, 59, 78, 69, 77, 81, 61, 99, 999, 85, 78, 104, 97, 95, 74, 70, 69, 83,\n",
    "                 68, 68, 77, 60, 85, 82, 93, 66, 71, 62, 64, 107, 999, 65, 78, 59, 83, 67,\n",
    "                 108,  58,  95, 106,  83,  79,  67,  59,  96,  90,  55,  55,  96, 109,  82,  55, 101,  58,\n",
    "                 97, 77, 60, 81, 999, 81, 75, 100, 66, 65, 105, 94, 101, 56, 999, 59, 105, 59,\n",
    "                 93, 56, 104, 74, 81, 62, 76, 65, 107, 60, 107, 98, 77, 86, 83, 104, 74, 69,\n",
    "                 97, 80, 91, 56, 108, 87, 65, 91, 93, 60, 91, 110, 107, 88, 96, 70, 60, 99,\n",
    "                 66, 91, 107, 65, 81, 109, 84, 106, 80, 92, 78, 84, 91, 59])\n",
    "\n",
    "#Sostituisco i valori anomali con il valore NaN (Not a Number) - considerando comunque il dato non corretto ma non eliminandolo\n",
    "#Uso il metodo np.where per sostituire i valori anomali con NaN - ages<999 è la condizione, ages è il valore da sostituire, np.nan è il valore di sostituzione\n",
    "age = np.where(ages<999, ages, np.nan)\n",
    "print(\"Lunghezza vettore ages - con NaN:\", len(age))\n",
    "\n",
    "#2 - Cerco il massimo valore dentro la matrice age/ages\n",
    "age_max = np.max(age)\n",
    "print(\"Età massima - con NaN:\", age_max)"
   ]
  },
  {
   "cell_type": "markdown",
   "metadata": {},
   "source": [
    "### 9.**Generazione random di storie**\n",
    "\n",
    "Usando la lista qui sotto, estrai casualmente **5 parole con reinserimento** (cioè, i duplicati sono ammessi).  \n",
    "\n",
    "Successivamente, inserisci casualmente queste parole negli spazi vuoti (indicati con \"_\") nella seguente frase:\n",
    "\n",
    "*\"In epoche passate, viveva una donna saggia che era molto orgogliosa dell'antico __ che proteggeva. Quando un anziano del villaggio venne a chiederle consiglio su come garantire al meglio un raccolto abbondante e le offrì il __ come dono, i suoi occhi si spalancarono e lei esclamò una sola parola, \"__\".  \n",
    "Radunò il villaggio e, per i successivi 100 giorni, su sua richiesta, gli abitanti cercarono nella foresta un __.  \n",
    "Nel 101° giorno, il bambino più giovane del villaggio trovò ciò che stavano cercando e tutti corsero dalla donna saggia per donarglielo.  \n",
    "Con un sorriso da un orecchio all’altro, e cantando canti di festa, la donna saggia guardò i suoi compaesani e disse: \"Ora è giunto il tempo del banchetto - nessuno rimarrà mai più senza _!\" Ci fu grande gioia e celebrazione.\"*\n"
   ]
  },
  {
   "cell_type": "code",
   "execution_count": 145,
   "metadata": {},
   "outputs": [
    {
     "name": "stdout",
     "output_type": "stream",
     "text": [
      "In epoche passate, viveva una donna saggia che era molto orgogliosa dell'antico VANTAGGIO che proteggeva. \n",
      " Quando un anziano del villaggio venne a chiederle consiglio su come garantire al meglio un raccolto abbondante e \n",
      "le offrì il BIOGRAFIA come dono, i suoi occhi si spalancarono e lei esclamò una sola parola, 'BIOGRAFIA'. \n",
      "Radunò il villaggio e, per i successivi 100 giorni, su sua richiesta, gli abitanti cercarono nella foresta un IMPERO. \n",
      "Nel 10° giorno, il bambino più giovane del villaggio trovò ciò che stavano cercando e tutti corsero dalla donna saggia per donarglielo. \n",
      "Con un sorriso da un orecchio all'altro, e cantando canti di festa, la donna saggia guardò i suoi compaesani e disse: \n",
      "'Ora è giunto il tempo del banchetto - nessuno rimarrà mai più senza _!' Ci fu grande gioia e celebrazione.\n",
      "\n"
     ]
    }
   ],
   "source": [
    "lista_parole = [\n",
    "    'INSEDIAMENTO', 'SEPARAZIONE', 'DIFFERENZA', 'APPLICAZIONE', 'ATTEGGIAMENTO', 'VERDURA', 'IMPERO', 'RICEVIMENTO',\n",
    "    'IGNORANZA', 'BIOGRAFIA', 'VISIONE', 'AGENTE DI POLIZIA', 'PROVA', 'PRESTAZIONE', 'PRESENTAZIONE', 'PARENTE',\n",
    "    'GIUSTIFICAZIONE', 'FILOSOFIA', 'DIREZIONE', 'BENEFICIARIO', 'BATTERIA', 'CERIMONIA', 'AGONIA', 'RECUPERO',\n",
    "    'ALFABETIZZAZIONE', 'CONSEGNA', 'SERBATOIO', 'VOLONTARIO', 'DEPOSITO', 'BIRILLO DA BOWLING', 'NEMICO', 'ANNUNCIO',\n",
    "    'CARAMELLA ZUCCHERATA', 'FULMINE', 'PALLONCINO', 'COPERTA', 'SCOPERTA', 'PENALITÀ', 'GENERALE', 'ALPACA',\n",
    "    'VANTAGGIO', 'HOT DOG', 'ABITO', 'MATEMATICA', 'VARIANTE'\n",
    "]\n",
    "\n",
    "# Estrazione casuale di 5 parole\n",
    "#np.random.choice(lista), seleziona casualmente un elemento dalla lista data\n",
    "parole_scelte = [np.random.choice(lista_parole) for _ in range(5)]\n",
    "\n",
    "# Testo della storia con spazi vuoti\n",
    "storia = (\n",
    "    \"In epoche passate, viveva una donna saggia che era molto orgogliosa dell'antico __ che proteggeva. \\n \"\n",
    "    \"Quando un anziano del villaggio venne a chiederle consiglio su come garantire al meglio un raccolto abbondante e \\n\"\n",
    "    \"le offrì il __ come dono, i suoi occhi si spalancarono e lei esclamò una sola parola, '__'. \\n\"\n",
    "    \"Radunò il villaggio e, per i successivi 100 giorni, su sua richiesta, gli abitanti cercarono nella foresta un __. \\n\"\n",
    "    \"Nel 10° giorno, il bambino più giovane del villaggio trovò ciò che stavano cercando e tutti corsero dalla donna saggia per donarglielo. \\n\"\n",
    "    \"Con un sorriso da un orecchio all'altro, e cantando canti di festa, la donna saggia guardò i suoi compaesani e disse: \\n\"\n",
    "    \"'Ora è giunto il tempo del banchetto - nessuno rimarrà mai più senza _!' Ci fu grande gioia e celebrazione.\\n\"\n",
    ")\n",
    "\n",
    "# Inserimento delle parole nella storia\n",
    "# sostituisco i segnaposto con le parole scelte in modo casuale\n",
    "for parola in parole_scelte:\n",
    "    storia = storia.replace(\"__\", parola, 1)\n",
    "\n",
    "print(storia)\n"
   ]
  },
  {
   "cell_type": "code",
   "execution_count": null,
   "metadata": {},
   "outputs": [],
   "source": []
  },
  {
   "cell_type": "markdown",
   "metadata": {},
   "source": [
    "Esempio di output\n",
    "\n",
    "\n",
    "\"In epoche passate, viveva una donna saggia che era molto orgogliosa dell'antico APPLICAZIONE che proteggeva. \n",
    "Quando un anziano del villaggio venne a chiederle consiglio su come garantire al meglio un raccolto abbondante \n",
    "e le offrì il DEPOSITO come dono, i suoi occhi si spalancarono e lei esclamò una sola parola, \"PRESTAZIONE\".  \n",
    "\n",
    "Radunò il villaggio e, per i successivi 100 giorni, su sua richiesta, gli abitanti cercarono nella foresta un BIRILLO DA BOWLING. \n",
    "Nel 101° giorno, il bambino più giovane del villaggio trovò ciò che stavano cercando e tutti corsero dalla donna saggia per donarglielo. \n",
    "Con un sorriso da un orecchio all’altro, e cantando canti di festa, la donna saggia guardò i suoi compaesani e disse: \n",
    "\"Ora è giunto il tempo del banchetto - nessuno rimarrà mai più senza GIUSTIFICAZIONE!\"  \n",
    "\n",
    "Ci fu grande gioia e celebrazione.\""
   ]
  }
 ],
 "metadata": {
  "kernelspec": {
   "display_name": "ambiente",
   "language": "python",
   "name": "python3"
  },
  "language_info": {
   "codemirror_mode": {
    "name": "ipython",
    "version": 3
   },
   "file_extension": ".py",
   "mimetype": "text/x-python",
   "name": "python",
   "nbconvert_exporter": "python",
   "pygments_lexer": "ipython3",
   "version": "3.12.7"
  }
 },
 "nbformat": 4,
 "nbformat_minor": 2
}
