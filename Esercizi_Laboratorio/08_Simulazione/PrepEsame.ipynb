{
 "cells": [
  {
   "cell_type": "markdown",
   "id": "bc384dd1",
   "metadata": {},
   "source": [
    "# NUMPY\n",
    "\n",
    "1 - Quando si crea un array con numPy gli elementi sono tutti dello stesso tipo.\n",
    "2 - Per avere elementi diversi, bisogna cambiare il dtype dell'array e metterlo come object\n",
    "    L'array diventa un array di oggetti, ma si perde velocità e proprietà di utilizzo di questa tipologia di dati."
   ]
  },
  {
   "cell_type": "code",
   "execution_count": 4,
   "id": "d2c62aa8",
   "metadata": {},
   "outputs": [
    {
     "name": "stdout",
     "output_type": "stream",
     "text": [
      "[0 2]\n"
     ]
    }
   ],
   "source": [
    "import numpy as np\n",
    "\n",
    "arr = np.array([0,2])\n",
    "\n",
    "print(arr)"
   ]
  }
 ],
 "metadata": {
  "kernelspec": {
   "display_name": "ambiente",
   "language": "python",
   "name": "python3"
  },
  "language_info": {
   "codemirror_mode": {
    "name": "ipython",
    "version": 3
   },
   "file_extension": ".py",
   "mimetype": "text/x-python",
   "name": "python",
   "nbconvert_exporter": "python",
   "pygments_lexer": "ipython3",
   "version": "3.12.7"
  }
 },
 "nbformat": 4,
 "nbformat_minor": 5
}
