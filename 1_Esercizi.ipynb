{
 "cells": [
  {
   "cell_type": "markdown",
   "metadata": {},
   "source": [
    "### **1. Trasformare cicli in list comprehension**\n",
    "\n",
    "Fai tre esempi di cicli producono una lista e poi riscrivi lo stesso codice usando la list comprehension"
   ]
  },
  {
   "cell_type": "code",
   "execution_count": 3,
   "metadata": {},
   "outputs": [
    {
     "name": "stdout",
     "output_type": "stream",
     "text": [
      "[7, 14, 21, 28, 35, 42, 49, 56, 63, 70, 77, 84, 91, 98]\n",
      "[7, 14, 21, 28, 35, 42, 49, 56, 63, 70, 77, 84, 91, 98]\n",
      "['casa', 'macchina', 'tavolo', 'sedia', 'quaderno', 'penna', 'cucina', 'lavatrice']\n",
      "['casa', 'macchina', 'tavolo', 'sedia', 'quaderno', 'penna', 'cucina', 'lavatrice']\n",
      "[30, 25]\n",
      "[30, 25]\n"
     ]
    }
   ],
   "source": [
    "#Primo ciclo for\n",
    "#Questo ciclo deve memorizzare in una lista i numeri che sono divisibile per 7\n",
    "#I numeri considerati devono esserer compresi da 1 a 100\n",
    "\n",
    "divisible_for_seven = []\n",
    "for index in range(1, 100):\n",
    "    if index % 7 == 0:\n",
    "        divisible_for_seven.append(index)\n",
    "\n",
    "print(divisible_for_seven)\n",
    "\n",
    "#Stesso ciclo for ma utilizzando una list comprehension\n",
    "divisible_for_seven = [index for index in range(1,100) if index%7 == 0]\n",
    "print(divisible_for_seven)\n",
    "\n",
    "#Secondo ciclo for\n",
    "#Questo ciclo for deve memorizzare in una lista le stringhe che contengono la lettera 'a'\n",
    "#Le stringhe considerate sono le seguenti:\n",
    "#['casa', 'macchina', 'tavolo', 'sedia', 'libro', 'quaderno', 'penna', 'telefono', 'cucina', 'lavatrice']\n",
    "lista_stringhe = ['casa', 'macchina', 'tavolo', 'sedia', 'libro', 'quaderno', 'penna', 'telefono', 'cucina', 'lavatrice']\n",
    "stringhe_con_a = []\n",
    "for element in lista_stringhe:\n",
    "    if 'a' in element:\n",
    "        stringhe_con_a.append(element)\n",
    "\n",
    "print(stringhe_con_a)\n",
    "\n",
    "#Stesso ciclo for ma utilizzando una list comprehension\n",
    "stringhe_con_a = [element for element in lista_stringhe if 'a' in element]\n",
    "print(stringhe_con_a)\n",
    "\n",
    "#Terzo ciclo for\n",
    "#Questo ciclo for crea una lista partendo da un dizionario\n",
    "#Memorizza solo il valore in caso di valore maggiore di 20\n",
    "#Il dizionario è il seguente:\n",
    "dizionario = {'a': 10, 'b': 30, 'c': 15, 'd': 25, 'e': 5}\n",
    "valori_maggiori_di_20 = []\n",
    "for key, value in dizionario.items():\n",
    "    if value > 20:\n",
    "        valori_maggiori_di_20.append(value)\n",
    "print(valori_maggiori_di_20)\n",
    "\n",
    "#Stesso ciclo for ma utilizzando una list comprehension\n",
    "valori_maggiori_di_20 = [value for key, value in dizionario.items() if value > 20]\n",
    "print(valori_maggiori_di_20)\n"
   ]
  },
  {
   "cell_type": "markdown",
   "metadata": {},
   "source": [
    "### **2. Vettore di Numeri Primi**\n",
    "\n",
    "1. **Crea un vettore** contenente tutti i numeri primi compresi tra **0 e 10**  \n",
    "   _(Puoi scriverli direttamente nell'array)._\n",
    "\n",
    "2. **Conta quanti numeri ci sono nel vettore** utilizzando la funzione `len()`.  **Ottieni lo stesso numero** accedendo all'attributo `.size` del vettore.\n",
    "\n",
    "3. Quale pensi sia il tipo di dato (`dtype`) del vettore?  Prova a rispondere senza eseguire il codice e Verifica la tua risposta accedendo all'attributo `.dtype` del vettore\n",
    "\n",
    "4. Scrivi l'array usando una list comprehension che controlla che i numeri siano primi. "
   ]
  },
  {
   "cell_type": "code",
   "execution_count": null,
   "metadata": {},
   "outputs": [
    {
     "name": "stdout",
     "output_type": "stream",
     "text": [
      "[2 3 5 7]\n",
      "4\n",
      "4\n",
      "int64\n",
      "[2 3 5 7]\n"
     ]
    }
   ],
   "source": [
    "import numpy as np\n",
    "\n",
    "#Creo una lista di numeri primi compresi tra 2 e 10\n",
    "#Un numero primo è un numero divisibile per 1 e per se stesso\n",
    "numeri_primi = np.array([2,3,5,7])\n",
    "print(numeri_primi)\n",
    "\n",
    "print(len(numeri_primi)) #Stampa la lunghezza dell'array usando funzione len\n",
    "print(numeri_primi.size) #Stampa la lunghezza dell'array usando attributo size\n",
    "print(numeri_primi.dtype) #Stampa il tipo di dato dell'array - Mi aspetto int64\n",
    "\n",
    "#List comprenshion che popola l'array in modo automatico con i numeri primi\n",
    "num_primi = np.array([i for i in range(2,11) if all(i%j != 0 for j in range(2,i))])\n",
    "print(num_primi)"
   ]
  },
  {
   "cell_type": "markdown",
   "metadata": {},
   "source": [
    "### **3.  Operazioni su array**\n",
    "Crea un array **a**, 1D (senza digitarlo esplicitamente), e genera due nuovi array **b**, contenente una sottostringa a piacere e **c** che è il reverse dell'array **a** (esempio [1,2,3] diventa [3,2,1]) .  Dividi l'array **a** per l'array **c**. Fai la stessa cosa per una lista."
   ]
  },
  {
   "cell_type": "code",
   "execution_count": 10,
   "metadata": {},
   "outputs": [
    {
     "name": "stdout",
     "output_type": "stream",
     "text": [
      "Array a: [3 2 1 6 2]\n",
      "Array b (sottostringa): [2 1 6]\n",
      "Array c (reverse): [2 6 1 2 3]\n",
      "Divisione a / c: [1.5        0.33333333 1.         3.         0.66666667]\n"
     ]
    }
   ],
   "source": [
    "import numpy as np\n",
    "\n",
    "# Creazione di un array 1D casuale\n",
    "a = np.random.randint(1, 10, size=5)  # Esempio di array casuale con 5 elementi\n",
    "\n",
    "# Creazione dell'array b con una sottostringa di 'a'\n",
    "b = a[1:4]  # Esempio di sottostringa\n",
    "\n",
    "# Creazione dell'array c come reverse di 'a'\n",
    "c = a[::-1]\n",
    "\n",
    "# Divisione elemento per elemento tra 'a' e 'c'\n",
    "divisione = a / c\n",
    "\n",
    "# Output dei risultati\n",
    "print(f\"Array a: {a}\")\n",
    "print(f\"Array b (sottostringa): {b}\")\n",
    "print(f\"Array c (reverse): {c}\")\n",
    "print(f\"Divisione a / c: {divisione}\")"
   ]
  }
 ],
 "metadata": {
  "kernelspec": {
   "display_name": "condaVSCode",
   "language": "python",
   "name": "python3"
  },
  "language_info": {
   "codemirror_mode": {
    "name": "ipython",
    "version": 3
   },
   "file_extension": ".py",
   "mimetype": "text/x-python",
   "name": "python",
   "nbconvert_exporter": "python",
   "pygments_lexer": "ipython3",
   "version": "3.12.7"
  }
 },
 "nbformat": 4,
 "nbformat_minor": 2
}
